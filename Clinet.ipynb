{
 "cells": [
  {
   "cell_type": "markdown",
   "id": "d220bf0c-457e-4301-8ca9-31ffa3daab75",
   "metadata": {},
   "source": [
    "Client"
   ]
  },
  {
   "cell_type": "code",
   "execution_count": 2,
   "id": "6a7449f9-b3da-4fa7-86d8-c0906cce77a3",
   "metadata": {},
   "outputs": [
    {
     "name": "stdout",
     "output_type": "stream",
     "text": [
      "** Reliable UDP Client Program **\n",
      "Sent: CONN_REQ\n",
      "Received: ACK\n",
      "Connection established!\n"
     ]
    },
    {
     "name": "stdin",
     "output_type": "stream",
     "text": [
      "Enter 0 to send the file or 1 to terminate connection:  0\n"
     ]
    },
    {
     "name": "stdout",
     "output_type": "stream",
     "text": [
      "File size: 57951 bytes\n",
      "Sent: REQ_TO_SEND\n",
      "Received: ACK\n",
      "Sending sound_file.mp4...\n",
      "Sent: FRAGMENT_SIZE:500\n",
      "Sent: WINDOW_SIZE:10\n"
     ]
    },
    {
     "ename": "ConnectionResetError",
     "evalue": "[WinError 10054] An existing connection was forcibly closed by the remote host",
     "output_type": "error",
     "traceback": [
      "\u001b[1;31m---------------------------------------------------------------------------\u001b[0m",
      "\u001b[1;31mConnectionResetError\u001b[0m                      Traceback (most recent call last)",
      "Cell \u001b[1;32mIn[2], line 106\u001b[0m\n\u001b[0;32m    104\u001b[0m         \u001b[38;5;28mprint\u001b[39m(\u001b[38;5;124m\"\u001b[39m\u001b[38;5;124mConnection failed. Try again.\u001b[39m\u001b[38;5;124m\"\u001b[39m)\n\u001b[0;32m    105\u001b[0m \u001b[38;5;28;01mif\u001b[39;00m \u001b[38;5;18m__name__\u001b[39m \u001b[38;5;241m==\u001b[39m \u001b[38;5;124m\"\u001b[39m\u001b[38;5;124m__main__\u001b[39m\u001b[38;5;124m\"\u001b[39m:\n\u001b[1;32m--> 106\u001b[0m     \u001b[43mmain\u001b[49m\u001b[43m(\u001b[49m\u001b[43m)\u001b[49m\n",
      "Cell \u001b[1;32mIn[2], line 95\u001b[0m, in \u001b[0;36mmain\u001b[1;34m()\u001b[0m\n\u001b[0;32m     92\u001b[0m option \u001b[38;5;241m=\u001b[39m \u001b[38;5;28minput\u001b[39m(\u001b[38;5;124m\"\u001b[39m\u001b[38;5;124mEnter 0 to send the file or 1 to terminate connection: \u001b[39m\u001b[38;5;124m\"\u001b[39m)\n\u001b[0;32m     94\u001b[0m \u001b[38;5;28;01mif\u001b[39;00m option \u001b[38;5;241m==\u001b[39m \u001b[38;5;124m\"\u001b[39m\u001b[38;5;124m0\u001b[39m\u001b[38;5;124m\"\u001b[39m:\n\u001b[1;32m---> 95\u001b[0m     \u001b[43mtransfer_file\u001b[49m\u001b[43m(\u001b[49m\u001b[43m)\u001b[49m\n\u001b[0;32m     96\u001b[0m \u001b[38;5;28;01melif\u001b[39;00m option \u001b[38;5;241m==\u001b[39m \u001b[38;5;124m\"\u001b[39m\u001b[38;5;124m1\u001b[39m\u001b[38;5;124m\"\u001b[39m:\n\u001b[0;32m     97\u001b[0m     send_message(\u001b[38;5;124m\"\u001b[39m\u001b[38;5;124mDISCONNECT\u001b[39m\u001b[38;5;124m\"\u001b[39m)\n",
      "Cell \u001b[1;32mIn[2], line 64\u001b[0m, in \u001b[0;36mtransfer_file\u001b[1;34m()\u001b[0m\n\u001b[0;32m     61\u001b[0m     packet_num \u001b[38;5;241m+\u001b[39m\u001b[38;5;241m=\u001b[39m \u001b[38;5;241m1\u001b[39m\n\u001b[0;32m     63\u001b[0m \u001b[38;5;28;01mif\u001b[39;00m seq_num \u001b[38;5;241m==\u001b[39m WINDOW_SIZE \u001b[38;5;129;01mor\u001b[39;00m \u001b[38;5;129;01mnot\u001b[39;00m data:\n\u001b[1;32m---> 64\u001b[0m     response \u001b[38;5;241m=\u001b[39m \u001b[43mreceive_message\u001b[49m\u001b[43m(\u001b[49m\u001b[43m)\u001b[49m\n\u001b[0;32m     66\u001b[0m     \u001b[38;5;28;01mif\u001b[39;00m response \u001b[38;5;241m==\u001b[39m \u001b[38;5;124m\"\u001b[39m\u001b[38;5;124mACK\u001b[39m\u001b[38;5;124m\"\u001b[39m:\n\u001b[0;32m     67\u001b[0m         \u001b[38;5;28mprint\u001b[39m(\u001b[38;5;124m\"\u001b[39m\u001b[38;5;124mReceived acknowledgment. Continuing...\u001b[39m\u001b[38;5;124m\"\u001b[39m)\n",
      "Cell \u001b[1;32mIn[2], line 22\u001b[0m, in \u001b[0;36mreceive_message\u001b[1;34m()\u001b[0m\n\u001b[0;32m     20\u001b[0m \u001b[38;5;28;01mdef\u001b[39;00m \u001b[38;5;21mreceive_message\u001b[39m():\n\u001b[0;32m     21\u001b[0m     \u001b[38;5;28;01mtry\u001b[39;00m:\n\u001b[1;32m---> 22\u001b[0m         data, _ \u001b[38;5;241m=\u001b[39m \u001b[43mclient_socket\u001b[49m\u001b[38;5;241;43m.\u001b[39;49m\u001b[43mrecvfrom\u001b[49m\u001b[43m(\u001b[49m\u001b[43mFRAGMENT_SIZE\u001b[49m\u001b[43m)\u001b[49m\n\u001b[0;32m     23\u001b[0m         \u001b[38;5;28mprint\u001b[39m(\u001b[38;5;124mf\u001b[39m\u001b[38;5;124m\"\u001b[39m\u001b[38;5;124mReceived: \u001b[39m\u001b[38;5;132;01m{\u001b[39;00mdata\u001b[38;5;241m.\u001b[39mdecode(\u001b[38;5;124m'\u001b[39m\u001b[38;5;124mutf-8\u001b[39m\u001b[38;5;124m'\u001b[39m)\u001b[38;5;132;01m}\u001b[39;00m\u001b[38;5;124m\"\u001b[39m)\n\u001b[0;32m     24\u001b[0m         \u001b[38;5;28;01mreturn\u001b[39;00m data\u001b[38;5;241m.\u001b[39mdecode(\u001b[38;5;124m'\u001b[39m\u001b[38;5;124mutf-8\u001b[39m\u001b[38;5;124m'\u001b[39m)\n",
      "\u001b[1;31mConnectionResetError\u001b[0m: [WinError 10054] An existing connection was forcibly closed by the remote host"
     ]
    }
   ],
   "source": [
    "import socket\n",
    "import os\n",
    "\n",
    "# Constants\n",
    "SERVER_IP = \"127.0.0.1\"\n",
    "SERVER_PORT = 50003\n",
    "FRAGMENT_SIZE = 500\n",
    "WINDOW_SIZE = 10\n",
    "TIMEOUT = 4\n",
    "FILE_NAME = \"sound_file.mp4\"\n",
    "\n",
    "# Create a UDP socket\n",
    "client_socket = socket.socket(socket.AF_INET, socket.SOCK_DGRAM)\n",
    "client_socket.settimeout(TIMEOUT)\n",
    "\n",
    "def send_message(message):\n",
    "    client_socket.sendto(message.encode('utf-8'), (SERVER_IP, SERVER_PORT))\n",
    "    print(f\"Sent: {message}\")\n",
    "\n",
    "def receive_message():\n",
    "    try:\n",
    "        data, _ = client_socket.recvfrom(FRAGMENT_SIZE)\n",
    "        print(f\"Received: {data.decode('utf-8')}\")\n",
    "        return data.decode('utf-8')\n",
    "    except socket.timeout:\n",
    "        print(\"Timeout\")\n",
    "        return \"TIMEOUT\"\n",
    "\n",
    "def transfer_file():\n",
    "    with open(FILE_NAME, \"rb\") as file:\n",
    "        file_size = os.path.getsize(FILE_NAME)\n",
    "        print(f\"File size: {file_size} bytes\")\n",
    "\n",
    "        # Send a request to start file transfer\n",
    "        send_message(\"REQ_TO_SEND\")\n",
    "        response = receive_message()\n",
    "\n",
    "        if response == \"ACK\":\n",
    "            print(f\"Sending {FILE_NAME}...\")\n",
    "            send_message(f\"FRAGMENT_SIZE:{FRAGMENT_SIZE}\")\n",
    "            send_message(f\"WINDOW_SIZE:{WINDOW_SIZE}\")\n",
    "\n",
    "            packet_num = 0\n",
    "            seq_num = 0\n",
    "            window = []\n",
    "\n",
    "            while True:\n",
    "                if seq_num < WINDOW_SIZE:\n",
    "                    data = file.read(FRAGMENT_SIZE)\n",
    "                    if not data:\n",
    "                        break\n",
    "\n",
    "                    # Simulate packet loss\n",
    "                    if packet_num == 12 or packet_num == 55:\n",
    "                        print(f\"Simulating packet loss for packet {packet_num}\")\n",
    "                    else:\n",
    "                        client_socket.sendto(data, (SERVER_IP, SERVER_PORT))\n",
    "                        window.append(data)\n",
    "\n",
    "                    seq_num += 1\n",
    "                    packet_num += 1\n",
    "\n",
    "                if seq_num == WINDOW_SIZE or not data:\n",
    "                    response = receive_message()\n",
    "\n",
    "                    if response == \"ACK\":\n",
    "                        print(\"Received acknowledgment. Continuing...\")\n",
    "                        seq_num = 0\n",
    "                        window = []\n",
    "                    elif response == \"NACK\":\n",
    "                        print(\"Received negative acknowledgment. Resending packets...\")\n",
    "                        for i, packet in enumerate(window):\n",
    "                            client_socket.sendto(packet, (SERVER_IP, SERVER_PORT))\n",
    "                        seq_num = 0\n",
    "                    elif response == \"TIMEOUT\":\n",
    "                        print(\"Server is not responding. Aborting transfer.\")\n",
    "                        break\n",
    "\n",
    "    client_socket.close()\n",
    "\n",
    "def main():\n",
    "    print(\"** Reliable UDP Client Program **\")\n",
    "\n",
    "    # Connect to the server\n",
    "    send_message(\"CONN_REQ\")\n",
    "    response = receive_message()\n",
    "\n",
    "    if response == \"ACK\":\n",
    "        print(\"Connection established!\")\n",
    "\n",
    "        while True:\n",
    "            option = input(\"Enter 0 to send the file or 1 to terminate connection: \")\n",
    "\n",
    "            if option == \"0\":\n",
    "                transfer_file()\n",
    "            elif option == \"1\":\n",
    "                send_message(\"DISCONNECT\")\n",
    "                print(\"Connection terminated.\")\n",
    "                break\n",
    "            else:\n",
    "                print(\"Invalid option. Please enter 0 or 1.\")\n",
    "\n",
    "    else:\n",
    "        print(\"Connection failed. Try again.\")\n",
    "if __name__ == \"__main__\":\n",
    "    main()\n"
   ]
  },
  {
   "cell_type": "code",
   "execution_count": null,
   "id": "259bade3-dfbf-46c3-80d6-3125a75adc65",
   "metadata": {},
   "outputs": [],
   "source": []
  }
 ],
 "metadata": {
  "kernelspec": {
   "display_name": "Python 3 (ipykernel)",
   "language": "python",
   "name": "python3"
  },
  "language_info": {
   "codemirror_mode": {
    "name": "ipython",
    "version": 3
   },
   "file_extension": ".py",
   "mimetype": "text/x-python",
   "name": "python",
   "nbconvert_exporter": "python",
   "pygments_lexer": "ipython3",
   "version": "3.11.4"
  }
 },
 "nbformat": 4,
 "nbformat_minor": 5
}
