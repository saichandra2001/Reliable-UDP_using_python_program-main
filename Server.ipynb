{
 "cells": [
  {
   "cell_type": "markdown",
   "id": "a7581217-2b81-4942-846c-7b19edc27e47",
   "metadata": {},
   "source": [
    "Server"
   ]
  },
  {
   "cell_type": "code",
   "execution_count": 1,
   "id": "17e4c483-d1bd-49fa-8d5c-93b1ce843fa0",
   "metadata": {},
   "outputs": [
    {
     "name": "stdout",
     "output_type": "stream",
     "text": [
      "** UDP SERVER LOG **\n",
      "Simulate ACK loss: True\n",
      "Simulate packet order randomization: True\n",
      "Starting server on 127.0.0.1:50003\n",
      "\n",
      "Waiting...\n",
      "Message received from 127.0.0.1:57503: CONN_REQ\n",
      "Connection established with 127.0.0.1:57503\n",
      "Waiting...\n",
      "Message received from 127.0.0.1:57503: DISCONNECT\n",
      "Waiting...\n",
      "Message received from 127.0.0.1:61976: CONN_REQ\n",
      "Connection established with 127.0.0.1:61976\n",
      "Waiting...\n",
      "Message received from 127.0.0.1:61976: REQ_TO_SEND\n",
      "Authentication confirmed. Receiving file...\n",
      "\n",
      "File saved successfully!\n",
      "Closing server...\n"
     ]
    }
   ],
   "source": [
    "import socket\n",
    "import random\n",
    "\n",
    "# Global Constants\n",
    "IP = \"127.0.0.1\"\n",
    "PORT = 50003\n",
    "FRAGMENT_SIZE = 500\n",
    "WINDOW_SIZE = 10\n",
    "RECEIVED_FILE_NAME = \"received_sound_file.pdf\"\n",
    "\n",
    "# Error Simulation Switches\n",
    "SIM_ACK_LOSS = True\n",
    "SIM_PACKET_ORDER_MIX = True\n",
    "\n",
    "# Global Variables\n",
    "client_list = []\n",
    "server_socket = socket.socket(socket.AF_INET, socket.SOCK_DGRAM)\n",
    "server_socket.bind((IP, PORT))\n",
    "\n",
    "def establish_connection(client_addr):\n",
    "    client_list.append(client_addr)\n",
    "    server_socket.sendto(b\"ACK\", client_addr)\n",
    "    print(f\"Connection established with {client_addr[0]}:{client_addr[1]}\")\n",
    "\n",
    "def process_final_window_packet(client_addr, rec_data_buffer):\n",
    "    # Simulate packet order randomization\n",
    "    if SIM_PACKET_ORDER_MIX:\n",
    "        random.shuffle(rec_data_buffer)\n",
    "\n",
    "    # Save data to a file\n",
    "    with open(RECEIVED_FILE_NAME, 'ab') as f:\n",
    "        for data in rec_data_buffer:\n",
    "            f.write(data)\n",
    "\n",
    "    # Send ACK_ALL to the client\n",
    "    if not SIM_ACK_LOSS:\n",
    "        server_socket.sendto(b\"ACK_ALL\", client_addr)\n",
    "\n",
    "def main():\n",
    "    print(\"** UDP SERVER LOG **\")\n",
    "    print(\"Simulate ACK loss:\", SIM_ACK_LOSS)\n",
    "    print(\"Simulate packet order randomization:\", SIM_PACKET_ORDER_MIX)\n",
    "    print(f\"Starting server on {IP}:{PORT}\\n\")\n",
    "\n",
    "    while True:\n",
    "        print(\"Waiting...\")\n",
    "        msg, client_addr = server_socket.recvfrom(FRAGMENT_SIZE)\n",
    "        print(f\"Message received from {client_addr[0]}:{client_addr[1]}: {msg.decode()}\")\n",
    "\n",
    "        if msg == b\"CONN_REQ\":\n",
    "            establish_connection(client_addr)\n",
    "        elif msg == b\"REQ_TO_SEND\" and client_addr in client_list:\n",
    "            server_socket.sendto(b\"ACK\", client_addr)\n",
    "            print(\"Authentication confirmed. Receiving file...\")\n",
    "\n",
    "            # Receive and process the file data here\n",
    "\n",
    "            print(\"\\nFile saved successfully!\")\n",
    "\n",
    "            # Close the server\n",
    "            server_socket.close()\n",
    "            print(\"Closing server...\")\n",
    "            break\n",
    "\n",
    "if __name__ == \"__main__\":\n",
    "    main()\n"
   ]
  },
  {
   "cell_type": "code",
   "execution_count": null,
   "id": "e10effa1-1fdf-4759-a777-709bcdc01f5e",
   "metadata": {},
   "outputs": [],
   "source": []
  }
 ],
 "metadata": {
  "kernelspec": {
   "display_name": "Python 3 (ipykernel)",
   "language": "python",
   "name": "python3"
  },
  "language_info": {
   "codemirror_mode": {
    "name": "ipython",
    "version": 3
   },
   "file_extension": ".py",
   "mimetype": "text/x-python",
   "name": "python",
   "nbconvert_exporter": "python",
   "pygments_lexer": "ipython3",
   "version": "3.11.4"
  }
 },
 "nbformat": 4,
 "nbformat_minor": 5
}
